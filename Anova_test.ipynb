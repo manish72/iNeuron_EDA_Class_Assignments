{
 "cells": [
  {
   "cell_type": "markdown",
   "id": "a98e2840",
   "metadata": {},
   "source": [
    "# Anova"
   ]
  },
  {
   "cell_type": "markdown",
   "id": "e1f3d9b0",
   "metadata": {},
   "source": [
    "Analysis of variance (ANOVA) is a collection of statistical models and their associated estimation procedures (such as the \"variation\" among and between groups) used to analyze the differences among means. "
   ]
  },
  {
   "cell_type": "markdown",
   "id": "eeecf487",
   "metadata": {},
   "source": [
    "## Types of Annova\n",
    "* One-way : one independent variable\n",
    "* Two-way : two independent variables"
   ]
  },
  {
   "cell_type": "markdown",
   "id": "458d5020",
   "metadata": {},
   "source": [
    "## One-way Annova"
   ]
  },
  {
   "cell_type": "code",
   "execution_count": 1,
   "id": "a833845f",
   "metadata": {},
   "outputs": [],
   "source": [
    "import pandas as pd\n",
    "import numpy as np\n",
    "import scipy.stats as stats"
   ]
  },
  {
   "cell_type": "code",
   "execution_count": 2,
   "id": "a3853a94",
   "metadata": {},
   "outputs": [],
   "source": [
    "heights_us = [180, 183, 172, 178, 169, 179, 178, 180]\n",
    "heights_uk = [185, 181, 180, 179, 164, 165, 180, 178]\n",
    "heights_india = [170, 183, 172, 175, 164, 170, 176, 167]\n",
    "\n",
    "all_heights = [heights_us,heights_uk,heights_india]"
   ]
  },
  {
   "cell_type": "markdown",
   "id": "32cac48b",
   "metadata": {},
   "source": [
    "### Calculate individual mean"
   ]
  },
  {
   "cell_type": "code",
   "execution_count": 3,
   "id": "155932b7",
   "metadata": {},
   "outputs": [],
   "source": [
    "mean_us = np.mean(heights_us)\n",
    "mean_uk = np.mean(heights_uk)\n",
    "mean_india = np.mean(heights_india)\n",
    "\n",
    "all_means = [mean_us,mean_uk,mean_india]"
   ]
  },
  {
   "cell_type": "markdown",
   "id": "15af2179",
   "metadata": {},
   "source": [
    "### Calculate grouped mean"
   ]
  },
  {
   "cell_type": "code",
   "execution_count": 4,
   "id": "ff7fd8b6",
   "metadata": {},
   "outputs": [],
   "source": [
    "grouped_mean = (mean_us + mean_uk + mean_india)/3"
   ]
  },
  {
   "cell_type": "markdown",
   "id": "7b88d428",
   "metadata": {},
   "source": [
    "### Calculate sum of squares within groups (SSW)"
   ]
  },
  {
   "cell_type": "code",
   "execution_count": 5,
   "id": "fbacbd2d",
   "metadata": {},
   "outputs": [
    {
     "name": "stdout",
     "output_type": "stream",
     "text": [
      "Mean 0: 177.375\n",
      "180 --> 6.890625\n",
      "183 --> 31.640625\n",
      "172 --> 28.890625\n",
      "178 --> 0.390625\n",
      "169 --> 70.140625\n",
      "179 --> 2.640625\n",
      "178 --> 0.390625\n",
      "180 --> 6.890625\n",
      "Mean 1: 176.5\n",
      "185 --> 72.25\n",
      "181 --> 20.25\n",
      "180 --> 12.25\n",
      "179 --> 6.25\n",
      "164 --> 156.25\n",
      "165 --> 132.25\n",
      "180 --> 12.25\n",
      "178 --> 2.25\n",
      "Mean 2: 172.125\n",
      "170 --> 4.515625\n",
      "183 --> 118.265625\n",
      "172 --> 0.015625\n",
      "175 --> 8.265625\n",
      "164 --> 66.015625\n",
      "170 --> 4.515625\n",
      "176 --> 15.015625\n",
      "167 --> 26.265625\n",
      "804.75\n"
     ]
    }
   ],
   "source": [
    "SSW = 0\n",
    "for i in range(0,3):\n",
    "    mean1 = np.mean(all_heights[i])\n",
    "    print(f\"Mean {i}: {mean1}\")\n",
    "    for j in all_heights[i]:\n",
    "        print(f\"{j} --> {(j-mean1)**2}\")\n",
    "        SSW += (j-mean1)**2\n",
    "        \n",
    "print(SSW)"
   ]
  },
  {
   "cell_type": "markdown",
   "id": "698c128b",
   "metadata": {},
   "source": [
    "### Calculate sum of squares between groups (SSB)"
   ]
  },
  {
   "cell_type": "code",
   "execution_count": 6,
   "id": "230585e8",
   "metadata": {},
   "outputs": [
    {
     "name": "stdout",
     "output_type": "stream",
     "text": [
      "126.58333333333334\n"
     ]
    }
   ],
   "source": [
    "SSB = 0\n",
    "for i in range(3):\n",
    "    SSB = SSB + len(all_heights[i]) * ((all_means[i]-grouped_mean)**2)\n",
    "print(SSB)"
   ]
  },
  {
   "cell_type": "markdown",
   "id": "cccbfe9f",
   "metadata": {},
   "source": [
    "### Calulate degrees of freedom for between and within the groups (dfB and dfW)"
   ]
  },
  {
   "cell_type": "code",
   "execution_count": 7,
   "id": "04e97201",
   "metadata": {},
   "outputs": [],
   "source": [
    "dfB = len(all_heights) - 1\n",
    "dfW = len(all_heights) * (len(all_heights[0])-1)"
   ]
  },
  {
   "cell_type": "code",
   "execution_count": 8,
   "id": "5af8229b",
   "metadata": {},
   "outputs": [
    {
     "data": {
      "text/plain": [
       "2"
      ]
     },
     "execution_count": 8,
     "metadata": {},
     "output_type": "execute_result"
    }
   ],
   "source": [
    "dfB"
   ]
  },
  {
   "cell_type": "code",
   "execution_count": 9,
   "id": "be71f0a1",
   "metadata": {},
   "outputs": [
    {
     "data": {
      "text/plain": [
       "21"
      ]
     },
     "execution_count": 9,
     "metadata": {},
     "output_type": "execute_result"
    }
   ],
   "source": [
    "dfW"
   ]
  },
  {
   "cell_type": "markdown",
   "id": "ffc301b8",
   "metadata": {},
   "source": [
    "### Calculate f-statistic"
   ]
  },
  {
   "cell_type": "code",
   "execution_count": 10,
   "id": "6eb506b2",
   "metadata": {},
   "outputs": [],
   "source": [
    "f_stat = (SSB/dfB)/(SSW/dfW)"
   ]
  },
  {
   "cell_type": "code",
   "execution_count": 11,
   "id": "6c3d7bfd",
   "metadata": {},
   "outputs": [
    {
     "data": {
      "text/plain": [
       "1.651599875737807"
      ]
     },
     "execution_count": 11,
     "metadata": {},
     "output_type": "execute_result"
    }
   ],
   "source": [
    "f_stat"
   ]
  },
  {
   "cell_type": "code",
   "execution_count": 12,
   "id": "6f1f26c2",
   "metadata": {},
   "outputs": [],
   "source": [
    "ALPHA = 0.05 \n",
    "\n",
    "f_critical = 5.78"
   ]
  },
  {
   "cell_type": "code",
   "execution_count": 13,
   "id": "c036defa",
   "metadata": {},
   "outputs": [
    {
     "name": "stdout",
     "output_type": "stream",
     "text": [
      "Accept the NULL Hypothesis\n"
     ]
    }
   ],
   "source": [
    "if f_stat > f_critical:\n",
    "    print(\"Reject the NULL Hypothesis\")\n",
    "else:\n",
    "    print(\"Accept the NULL Hypothesis\")"
   ]
  },
  {
   "cell_type": "markdown",
   "id": "1093a8cb",
   "metadata": {},
   "source": [
    "### Let's calculate using statsmodel"
   ]
  },
  {
   "cell_type": "code",
   "execution_count": 14,
   "id": "bbfffd0d",
   "metadata": {},
   "outputs": [
    {
     "data": {
      "text/plain": [
       "<class 'statsmodels.stats.base.HolderTuple'>\n",
       "statistic = 1.6515998757378068\n",
       "pvalue = 0.21569312475906252\n",
       "df = (2.0, 21.0)\n",
       "df_num = 2.0\n",
       "df_denom = 21.0\n",
       "nobs_t = 24.0\n",
       "n_groups = 3\n",
       "means = array([177.375, 176.5  , 172.125])\n",
       "nobs = array([8., 8., 8.])\n",
       "vars_ = array([21.125     , 59.14285714, 34.69642857])\n",
       "use_var = 'equal'\n",
       "welch_correction = True\n",
       "tuple = (1.6515998757378068, 0.21569312475906252)"
      ]
     },
     "execution_count": 14,
     "metadata": {},
     "output_type": "execute_result"
    }
   ],
   "source": [
    "from statsmodels.stats.oneway import anova_oneway\n",
    "\n",
    "anova_oneway([heights_us, heights_uk, heights_india], use_var=\"equal\")"
   ]
  },
  {
   "cell_type": "markdown",
   "id": "73a4b70b",
   "metadata": {},
   "source": [
    "## Two-way"
   ]
  },
  {
   "cell_type": "markdown",
   "id": "1d240c8e",
   "metadata": {},
   "source": [
    "### Problem Statement"
   ]
  },
  {
   "attachments": {
    "image.png": {
     "image/png": "[encoded data removed]"
    }
   },
   "cell_type": "markdown",
   "id": "a0295ec2",
   "metadata": {},
   "source": [
    "The illness caused by a virus in a city concerning some restaurant inspectors is not consistent with their evaluations of cleanliness of restaurants. In order to investigate this possibility, the director has five restaurant inspectors to grade the cleanliness of three restaurants. The results are shown below.\n",
    "\n",
    "![image.png](attachment:image.png)"
   ]
  },
  {
   "cell_type": "markdown",
   "id": "826ce880",
   "metadata": {},
   "source": [
    "### Solution:"
   ]
  },
  {
   "cell_type": "code",
   "execution_count": 15,
   "id": "fe8bb289",
   "metadata": {},
   "outputs": [],
   "source": [
    "ins_res = {1:[71,55,84],2:[65,57,86],3:[70,65,77],4:[72,69,70],5:[76,64,85]}"
   ]
  },
  {
   "cell_type": "code",
   "execution_count": 16,
   "id": "08ee818c",
   "metadata": {},
   "outputs": [
    {
     "name": "stdout",
     "output_type": "stream",
     "text": [
      "1066\n",
      "[210, 208, 212, 211, 225]\n"
     ]
    }
   ],
   "source": [
    "total_sum_all_points = 0\n",
    "sumlist_by_each_inspector = list()\n",
    "total_items_count = 0\n",
    "for key,value in ins_res.items():\n",
    "    total_sum_all_points += sum(value)\n",
    "    sumlist_by_each_inspector.append(sum(value))\n",
    "    total_items_count += len(value)\n",
    "    \n",
    "print(total_sum_all_points)\n",
    "print(sumlist_by_each_inspector)"
   ]
  },
  {
   "cell_type": "code",
   "execution_count": 17,
   "id": "42b5edc5",
   "metadata": {},
   "outputs": [],
   "source": [
    "sumlist_square_by_each_inspector = list()\n",
    "sumlist_square_by_each_inspector = [i*i for i in sumlist_by_each_inspector]\n",
    "\n",
    "sumlist_square_by_each_restaurant = list()\n",
    "for i in range(0,len(ins_res[1])):\n",
    "    sum1 = 0\n",
    "    for j in range(0,len(ins_res)):\n",
    "        sum1 += ins_res[j+1][i]\n",
    "    sumlist_square_by_each_restaurant.append(sum1**2)"
   ]
  },
  {
   "cell_type": "code",
   "execution_count": 18,
   "id": "039b5d28",
   "metadata": {},
   "outputs": [
    {
     "data": {
      "text/plain": [
       "([44100, 43264, 44944, 44521, 50625], [125316, 96100, 161604])"
      ]
     },
     "execution_count": 18,
     "metadata": {},
     "output_type": "execute_result"
    }
   ],
   "source": [
    "sumlist_square_by_each_inspector , sumlist_square_by_each_restaurant"
   ]
  },
  {
   "cell_type": "code",
   "execution_count": 19,
   "id": "ce883f5e",
   "metadata": {},
   "outputs": [
    {
     "name": "stdout",
     "output_type": "stream",
     "text": [
      "[5041, 3025, 7056, 4225, 3249, 7396, 4900, 4225, 5929, 5184, 4761, 4900, 5776, 4096, 7225]\n"
     ]
    }
   ],
   "source": [
    "squares_of_each_item = list()\n",
    "for key,value in ins_res.items():\n",
    "    for j in ins_res[key]:\n",
    "        squares_of_each_item.append(j*j)\n",
    "        \n",
    "print(squares_of_each_item)"
   ]
  },
  {
   "cell_type": "code",
   "execution_count": 20,
   "id": "0f04404b",
   "metadata": {},
   "outputs": [],
   "source": [
    "Correction_factor = round(total_sum_all_points ** 2/total_items_count,2)\n",
    "Total_sum_of_squares = sum(squares_of_each_item) - Correction_factor"
   ]
  },
  {
   "cell_type": "markdown",
   "id": "92971a5e",
   "metadata": {},
   "source": [
    "### Calculate sum of squares due to treatment (all the data row-wise) - SST"
   ]
  },
  {
   "cell_type": "code",
   "execution_count": 21,
   "id": "d27a4bbc",
   "metadata": {},
   "outputs": [],
   "source": [
    "SST = round((sum(sumlist_square_by_each_inspector)/ len(ins_res[1])) - Correction_factor,2)"
   ]
  },
  {
   "cell_type": "markdown",
   "id": "789fdf3f",
   "metadata": {},
   "source": [
    "### Calculate sum of squares due to blocks (all the data row-wise) - SSB"
   ]
  },
  {
   "cell_type": "code",
   "execution_count": 22,
   "id": "ad269a46",
   "metadata": {},
   "outputs": [],
   "source": [
    "SSB = round((sum(sumlist_square_by_each_restaurant)/ len(ins_res)) - Correction_factor,2)"
   ]
  },
  {
   "cell_type": "code",
   "execution_count": 23,
   "id": "7c0a9f07",
   "metadata": {},
   "outputs": [
    {
     "data": {
      "text/plain": [
       "(60.93, 846.93)"
      ]
     },
     "execution_count": 23,
     "metadata": {},
     "output_type": "execute_result"
    }
   ],
   "source": [
    "SST,SSB"
   ]
  },
  {
   "cell_type": "markdown",
   "id": "9853175f",
   "metadata": {},
   "source": [
    "### Calculate sum of squares due to error"
   ]
  },
  {
   "cell_type": "code",
   "execution_count": 24,
   "id": "4034b55e",
   "metadata": {},
   "outputs": [],
   "source": [
    "SSE = Total_sum_of_squares - SST - SSB"
   ]
  },
  {
   "cell_type": "markdown",
   "id": "68aa735b",
   "metadata": {},
   "source": [
    "### Calculate degrees of freedom for inspectors"
   ]
  },
  {
   "cell_type": "code",
   "execution_count": 25,
   "id": "83ff6a7b",
   "metadata": {},
   "outputs": [],
   "source": [
    "df_inspector = (len(ins_res) - 1) # degrees of freedom for inspectors"
   ]
  },
  {
   "cell_type": "markdown",
   "id": "3b1e91f1",
   "metadata": {},
   "source": [
    "### Calculate degrees of freedom for restaurants"
   ]
  },
  {
   "cell_type": "code",
   "execution_count": 26,
   "id": "8e536901",
   "metadata": {},
   "outputs": [],
   "source": [
    "df_restaurant = (len(ins_res[1]) - 1) # degrees of freedom for restaurants "
   ]
  },
  {
   "cell_type": "markdown",
   "id": "0278839c",
   "metadata": {},
   "source": [
    "### Degress of freedom due to error"
   ]
  },
  {
   "cell_type": "code",
   "execution_count": 27,
   "id": "155b6ccb",
   "metadata": {},
   "outputs": [
    {
     "data": {
      "text/plain": [
       "8"
      ]
     },
     "execution_count": 27,
     "metadata": {},
     "output_type": "execute_result"
    }
   ],
   "source": [
    "df_error = df_inspector * df_restaurant\n",
    "df_error"
   ]
  },
  {
   "cell_type": "markdown",
   "id": "d37b6293",
   "metadata": {},
   "source": [
    "### Calculate Mean Square Error"
   ]
  },
  {
   "cell_type": "code",
   "execution_count": 28,
   "id": "a0ca99e5",
   "metadata": {},
   "outputs": [],
   "source": [
    "MSE = SSE/df_error"
   ]
  },
  {
   "cell_type": "markdown",
   "id": "62fd6192",
   "metadata": {},
   "source": [
    "### Calculate f-statistic for between inspectors"
   ]
  },
  {
   "cell_type": "code",
   "execution_count": 29,
   "id": "60cc8030",
   "metadata": {},
   "outputs": [],
   "source": [
    "f_stat_inspector = round((SST / df_inspector) / MSE,2)"
   ]
  },
  {
   "cell_type": "markdown",
   "id": "173efa6a",
   "metadata": {},
   "source": [
    "### Calculate f-statistic for between restaurants"
   ]
  },
  {
   "cell_type": "code",
   "execution_count": 30,
   "id": "85cda438",
   "metadata": {},
   "outputs": [],
   "source": [
    "f_stat_restaurant = round((SSB / df_restaurant) / MSE,2)"
   ]
  },
  {
   "cell_type": "code",
   "execution_count": 31,
   "id": "42fd212d",
   "metadata": {},
   "outputs": [
    {
     "data": {
      "text/plain": [
       "(0.38, 10.49)"
      ]
     },
     "execution_count": 31,
     "metadata": {},
     "output_type": "execute_result"
    }
   ],
   "source": [
    "f_stat_inspector , f_stat_restaurant"
   ]
  },
  {
   "cell_type": "markdown",
   "id": "6484e5a5",
   "metadata": {},
   "source": [
    "### For calculating critical values"
   ]
  },
  {
   "cell_type": "code",
   "execution_count": 32,
   "id": "8a222481",
   "metadata": {},
   "outputs": [],
   "source": [
    "# inspector - (df_inspector, df_error)\n",
    "# restaurant - (df_restaurant, df_error)\n",
    "\n",
    "ALPHA = 0.05\n",
    "f_inspector_critical = 3.838 \n",
    "f_restaurant_critical = 4.459"
   ]
  },
  {
   "cell_type": "markdown",
   "id": "a2ab8c01",
   "metadata": {},
   "source": [
    "### Let's check NULL hypothesis for inspectors"
   ]
  },
  {
   "cell_type": "code",
   "execution_count": 33,
   "id": "0ed79655",
   "metadata": {},
   "outputs": [
    {
     "name": "stdout",
     "output_type": "stream",
     "text": [
      "Accept the NULL hypothesis, i.e., we conclude that there is no significant difference among the mean cleanliness scores of inspectors.\n"
     ]
    }
   ],
   "source": [
    "if f_stat_inspector < f_inspector_critical:\n",
    "    print(\"Accept the NULL hypothesis, i.e., we conclude that there is no significant difference among the mean cleanliness scores of inspectors.\")\n",
    "\n",
    "else:\n",
    "    print(\"Reject the NULL hypothesis, i.e., we conclude that there is no significant difference among the mean cleanliness scores of inspectors.\")"
   ]
  },
  {
   "cell_type": "markdown",
   "id": "09c24563",
   "metadata": {},
   "source": [
    "### Let's check NULL hypothesis for restaurants"
   ]
  },
  {
   "cell_type": "code",
   "execution_count": 34,
   "id": "c85603a2",
   "metadata": {},
   "outputs": [
    {
     "name": "stdout",
     "output_type": "stream",
     "text": [
      "Reject the NULL hypothesis, i.e., we conclude that there exists significant difference in atleast one pair of restaurants over their mean cleanliness scores.\n"
     ]
    }
   ],
   "source": [
    "if f_stat_restaurant < f_restaurant_critical:\n",
    "    print(\"Accept the NULL hypothesis, i.e., we conclude that there is no significant difference in atleast one pair of restaurants over their mean cleanliness scores.\")\n",
    "\n",
    "else:\n",
    "    print(\"Reject the NULL hypothesis, i.e., we conclude that there exists significant difference in atleast one pair of restaurants over their mean cleanliness scores.\")"
   ]
  },
  {
   "cell_type": "code",
   "execution_count": null,
   "id": "538cf088",
   "metadata": {},
   "outputs": [],
   "source": []
  }
 ],
 "metadata": {
  "kernelspec": {
   "display_name": "Python 3 (ipykernel)",
   "language": "python",
   "name": "python3"
  },
  "language_info": {
   "codemirror_mode": {
    "name": "ipython",
    "version": 3
   },
   "file_extension": ".py",
   "mimetype": "text/x-python",
   "name": "python",
   "nbconvert_exporter": "python",
   "pygments_lexer": "ipython3",
   "version": "3.9.13"
  }
 },
 "nbformat": 4,
 "nbformat_minor": 5
}
